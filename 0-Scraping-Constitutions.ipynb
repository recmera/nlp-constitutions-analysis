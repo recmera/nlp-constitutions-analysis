{
 "cells": [
  {
   "cell_type": "markdown",
   "id": "28c7a919",
   "metadata": {},
   "source": [
    "## Crawling y Scraping de las constituciones\n",
    "\n",
    "Se extraeran las constituciones del siguiente sitio web: https://constituteproject.org\n",
    "\n",
    "### 1. Crawling"
   ]
  },
  {
   "cell_type": "code",
   "execution_count": 50,
   "id": "e845c410",
   "metadata": {},
   "outputs": [],
   "source": [
    "import random\n",
    "import requests\n",
    "from requests_html import HTMLSession\n",
    "from requests_html import HTML\n",
    "import os\n",
    "import json\n",
    "\n",
    "import w3lib.html\n",
    "import datetime\n",
    "import string\n",
    "import calendar\n",
    "import html\n",
    "import locale "
   ]
  },
  {
   "cell_type": "code",
   "execution_count": 51,
   "id": "e3724418",
   "metadata": {},
   "outputs": [],
   "source": [
    "URL_SEED = 'https://constituteproject.org/constitutions?lang=en&status=in_force&status=is_draft'\n",
    "XPATH_HREF = \"//div/a/@href\""
   ]
  },
  {
   "cell_type": "code",
   "execution_count": 52,
   "id": "f26728ce",
   "metadata": {},
   "outputs": [],
   "source": [
    "class Crawler:\n",
    "    \n",
    "    USER_AGENT_LIST = [\n",
    "        \"Mozilla/5.0 (Windows NT 6.1; WOW64) AppleWebKit/537.1 (KHTML, like Gecko) Chrome/22.0.1207.1 Safari/537.1\",\n",
    "        \"Mozilla/5.0 (X11; CrOS i686 2268.111.0) AppleWebKit/536.11 (KHTML, like Gecko) Chrome/20.0.1132.57 Safari/536.11\",\n",
    "        \"Mozilla/5.0 (Windows NT 6.1; WOW64) AppleWebKit/536.6 (KHTML, like Gecko) Chrome/20.0.1092.0 Safari/536.6\",\n",
    "        \"Mozilla/5.0 (Windows NT 6.2) AppleWebKit/536.6 (KHTML, like Gecko) Chrome/20.0.1090.0 Safari/536.6\",\n",
    "        \"Mozilla/5.0 (Windows NT 6.2; WOW64) AppleWebKit/537.1 (KHTML, like Gecko) Chrome/19.77.34.5 Safari/537.1\",\n",
    "        \"Mozilla/5.0 (X11; Linux x86_64) AppleWebKit/536.5 (KHTML, like Gecko) Chrome/19.0.1084.9 Safari/536.5\",\n",
    "        \"Mozilla/5.0 (Windows NT 6.0) AppleWebKit/536.5 (KHTML, like Gecko) Chrome/19.0.1084.36 Safari/536.5\",\n",
    "        \"Mozilla/5.0 (Windows NT 6.1; WOW64) AppleWebKit/536.3 (KHTML, like Gecko) Chrome/19.0.1063.0 Safari/536.3\",\n",
    "        \"Mozilla/5.0 (Windows NT 5.1) AppleWebKit/536.3 (KHTML, like Gecko) Chrome/19.0.1063.0 Safari/536.3\",\n",
    "        \"Mozilla/5.0 (Macintosh; Intel Mac OS X 10_8_0) AppleWebKit/536.3 (KHTML, like Gecko) Chrome/19.0.1063.0 Safari/536.3\",\n",
    "        \"Mozilla/5.0 (Windows NT 6.2) AppleWebKit/536.3 (KHTML, like Gecko) Chrome/19.0.1062.0 Safari/536.3\",\n",
    "        \"Mozilla/5.0 (Windows NT 6.1; WOW64) AppleWebKit/536.3 (KHTML, like Gecko) Chrome/19.0.1062.0 Safari/536.3\",\n",
    "        \"Mozilla/5.0 (Windows NT 6.2) AppleWebKit/536.3 (KHTML, like Gecko) Chrome/19.0.1061.1 Safari/536.3\",\n",
    "        \"Mozilla/5.0 (Windows NT 6.1; WOW64) AppleWebKit/536.3 (KHTML, like Gecko) Chrome/19.0.1061.1 Safari/536.3\",\n",
    "        \"Mozilla/5.0 (Windows NT 6.1) AppleWebKit/536.3 (KHTML, like Gecko) Chrome/19.0.1061.1 Safari/536.3\",\n",
    "        \"Mozilla/5.0 (Windows NT 6.2) AppleWebKit/536.3 (KHTML, like Gecko) Chrome/19.0.1061.0 Safari/536.3\",\n",
    "        \"Mozilla/5.0 (X11; Linux x86_64) AppleWebKit/535.24 (KHTML, like Gecko) Chrome/19.0.1055.1 Safari/535.24\",\n",
    "        \"Mozilla/5.0 (Windows NT 6.2; WOW64) AppleWebKit/535.24 (KHTML, like Gecko) Chrome/19.0.1055.1 Safari/535.24\"\n",
    "]\n",
    "\n",
    "    #Ruta XPATH hacia los enlaces que queremos recopilar\n",
    "    xpath_href=XPATH_HREF\n",
    "\n",
    "    #variable que permite listar todos los enlaces recopilado\n",
    "    url_list = []\n",
    "    \n",
    "    def _init_(self):\n",
    "        pass\n",
    "    \n",
    "    def get(self,url):\n",
    "        session = HTMLSession()\n",
    "        header = dict()\n",
    "        header['user-agent'] = random.choice(self.USER_AGENT_LIST)\n",
    "        response = session.get(url,headers=header)        \n",
    "        return response\n",
    "    \n",
    "    def parse(self, response):\n",
    "        self.url_list = []\n",
    "        urls = response.html.xpath(self.xpath_href)\n",
    "        for url in urls:\n",
    "            self.url_list.append(url)"
   ]
  },
  {
   "cell_type": "code",
   "execution_count": 53,
   "id": "7b9756d5",
   "metadata": {},
   "outputs": [],
   "source": [
    "crawler = Crawler()\n",
    "response = crawler.get(URL_SEED)"
   ]
  },
  {
   "cell_type": "code",
   "execution_count": 71,
   "id": "973fde47",
   "metadata": {},
   "outputs": [],
   "source": [
    "crawler.parse(response)\n",
    "crawler.url_list\n",
    "urls=crawler.url_list[20:]\n",
    "fixed = []\n",
    "for i in urls:\n",
    "    fixed.append(\"https://constituteproject.org\"+i)"
   ]
  },
  {
   "cell_type": "markdown",
   "id": "1f832708",
   "metadata": {},
   "source": [
    "### 2. Scraping"
   ]
  },
  {
   "cell_type": "code",
   "execution_count": 55,
   "id": "3362bc89",
   "metadata": {},
   "outputs": [],
   "source": [
    "URL_ARTICLE =\"https://constituteproject.org/constitution/Brunei_2006?lang=en\""
   ]
  },
  {
   "cell_type": "code",
   "execution_count": 56,
   "id": "0e923194",
   "metadata": {},
   "outputs": [],
   "source": [
    "XPATH_TITLE = \"//h1\"\n",
    "XPATH_CONTENT =\"//div[@class='constitution-content']//p\""
   ]
  },
  {
   "cell_type": "code",
   "execution_count": 57,
   "id": "c0971934",
   "metadata": {},
   "outputs": [],
   "source": [
    "class Scraper:\n",
    "    \n",
    "    USER_AGENT_LIST = [\n",
    "        \"Mozilla/5.0 (Windows NT 6.1; WOW64) AppleWebKit/537.1 (KHTML, like Gecko) Chrome/22.0.1207.1 Safari/537.1\",\n",
    "        \"Mozilla/5.0 (X11; CrOS i686 2268.111.0) AppleWebKit/536.11 (KHTML, like Gecko) Chrome/20.0.1132.57 Safari/536.11\",\n",
    "        \"Mozilla/5.0 (Windows NT 6.1; WOW64) AppleWebKit/536.6 (KHTML, like Gecko) Chrome/20.0.1092.0 Safari/536.6\",\n",
    "        \"Mozilla/5.0 (Windows NT 6.2) AppleWebKit/536.6 (KHTML, like Gecko) Chrome/20.0.1090.0 Safari/536.6\",\n",
    "        \"Mozilla/5.0 (Windows NT 6.2; WOW64) AppleWebKit/537.1 (KHTML, like Gecko) Chrome/19.77.34.5 Safari/537.1\",\n",
    "        \"Mozilla/5.0 (X11; Linux x86_64) AppleWebKit/536.5 (KHTML, like Gecko) Chrome/19.0.1084.9 Safari/536.5\",\n",
    "        \"Mozilla/5.0 (Windows NT 6.0) AppleWebKit/536.5 (KHTML, like Gecko) Chrome/19.0.1084.36 Safari/536.5\",\n",
    "        \"Mozilla/5.0 (Windows NT 6.1; WOW64) AppleWebKit/536.3 (KHTML, like Gecko) Chrome/19.0.1063.0 Safari/536.3\",\n",
    "        \"Mozilla/5.0 (Windows NT 5.1) AppleWebKit/536.3 (KHTML, like Gecko) Chrome/19.0.1063.0 Safari/536.3\",\n",
    "        \"Mozilla/5.0 (Macintosh; Intel Mac OS X 10_8_0) AppleWebKit/536.3 (KHTML, like Gecko) Chrome/19.0.1063.0 Safari/536.3\",\n",
    "        \"Mozilla/5.0 (Windows NT 6.2) AppleWebKit/536.3 (KHTML, like Gecko) Chrome/19.0.1062.0 Safari/536.3\",\n",
    "        \"Mozilla/5.0 (Windows NT 6.1; WOW64) AppleWebKit/536.3 (KHTML, like Gecko) Chrome/19.0.1062.0 Safari/536.3\",\n",
    "        \"Mozilla/5.0 (Windows NT 6.2) AppleWebKit/536.3 (KHTML, like Gecko) Chrome/19.0.1061.1 Safari/536.3\",\n",
    "        \"Mozilla/5.0 (Windows NT 6.1; WOW64) AppleWebKit/536.3 (KHTML, like Gecko) Chrome/19.0.1061.1 Safari/536.3\",\n",
    "        \"Mozilla/5.0 (Windows NT 6.1) AppleWebKit/536.3 (KHTML, like Gecko) Chrome/19.0.1061.1 Safari/536.3\",\n",
    "        \"Mozilla/5.0 (Windows NT 6.2) AppleWebKit/536.3 (KHTML, like Gecko) Chrome/19.0.1061.0 Safari/536.3\",\n",
    "        \"Mozilla/5.0 (X11; Linux x86_64) AppleWebKit/535.24 (KHTML, like Gecko) Chrome/19.0.1055.1 Safari/535.24\",\n",
    "        \"Mozilla/5.0 (Windows NT 6.2; WOW64) AppleWebKit/535.24 (KHTML, like Gecko) Chrome/19.0.1055.1 Safari/535.24\"\n",
    "    ]\n",
    "\n",
    "    query_extract_title = XPATH_TITLE\n",
    "    query_extract_text =  XPATH_CONTENT\n",
    "\n",
    "    def _init_(self):\n",
    "        pass\n",
    "   \n",
    "    def get(self,url):\n",
    "        headers = {'user-agent':random.choice(self.USER_AGENT_LIST) }\n",
    "        session = HTMLSession()\n",
    "        response = session.get(url,headers=headers) \n",
    "        return response\n",
    "    \n",
    "    def clean_text(self, html_text):\n",
    "        text_without_tags = w3lib.html.remove_tags(html_text)\n",
    "        text_without_escape_chars = w3lib.html.replace_escape_chars(text_without_tags)\n",
    "        text_without_escape_chars = html.unescape(text_without_escape_chars)\n",
    "        text_without_whitespace = text_without_escape_chars.strip()\n",
    "        return text_without_whitespace\n",
    "\n",
    "    \n",
    "    #### main function ####\n",
    "    def parse(self, response):\n",
    "        \n",
    "        #URL\n",
    "        self.news_url = response.url\n",
    "        \n",
    "        #TITLE\n",
    "        self.news_title = response.html.xpath(self.query_extract_title)[0].text\n",
    "        self.news_title = self.clean_text(self.news_title)\n",
    "        \n",
    "        \n",
    "        #CONTENT\n",
    "        self.news_text = \"\"\n",
    "        \n",
    "        html_paragraphs = response.html.xpath(self.query_extract_text)\n",
    "        \n",
    "        for paragraph in html_paragraphs:\n",
    "            paragraph_content = w3lib.html.remove_tags(paragraph.text)    \n",
    "            text_cleaned = self.clean_text(paragraph_content)\n",
    "            self.news_text = self.news_text+text_cleaned"
   ]
  },
  {
   "cell_type": "code",
   "execution_count": 58,
   "id": "6c60efa1",
   "metadata": {},
   "outputs": [],
   "source": [
    "scraper = Scraper()\n",
    "response =scraper.get(URL_ARTICLE)"
   ]
  },
  {
   "cell_type": "code",
   "execution_count": 59,
   "id": "0c69f9df",
   "metadata": {},
   "outputs": [],
   "source": [
    "scraper.parse(response)"
   ]
  },
  {
   "cell_type": "code",
   "execution_count": 63,
   "id": "8de3f306",
   "metadata": {},
   "outputs": [
    {
     "data": {
      "text/html": [
       "<div>\n",
       "<style scoped>\n",
       "    .dataframe tbody tr th:only-of-type {\n",
       "        vertical-align: middle;\n",
       "    }\n",
       "\n",
       "    .dataframe tbody tr th {\n",
       "        vertical-align: top;\n",
       "    }\n",
       "\n",
       "    .dataframe thead th {\n",
       "        text-align: right;\n",
       "    }\n",
       "</style>\n",
       "<table border=\"1\" class=\"dataframe\">\n",
       "  <thead>\n",
       "    <tr style=\"text-align: right;\">\n",
       "      <th></th>\n",
       "      <th>url</th>\n",
       "      <th>title</th>\n",
       "      <th>content</th>\n",
       "    </tr>\n",
       "  </thead>\n",
       "  <tbody>\n",
       "    <tr>\n",
       "      <th>0</th>\n",
       "      <td>https://constituteproject.org/constitution/Bru...</td>\n",
       "      <td>Brunei Darussalam 1959 (rev. 2006)</td>\n",
       "      <td>WHEREAS provision is being made in a separate ...</td>\n",
       "    </tr>\n",
       "  </tbody>\n",
       "</table>\n",
       "</div>"
      ],
      "text/plain": [
       "                                                 url  \\\n",
       "0  https://constituteproject.org/constitution/Bru...   \n",
       "\n",
       "                                title  \\\n",
       "0  Brunei Darussalam 1959 (rev. 2006)   \n",
       "\n",
       "                                             content  \n",
       "0  WHEREAS provision is being made in a separate ...  "
      ]
     },
     "execution_count": 63,
     "metadata": {},
     "output_type": "execute_result"
    }
   ],
   "source": [
    "import pandas as pd\n",
    "df = pd.DataFrame(data={'url': [URL_ARTICLE],'title':[scraper.news_title], 'content':[scraper.news_text]})\n",
    "df"
   ]
  },
  {
   "cell_type": "markdown",
   "id": "33d6369e",
   "metadata": {},
   "source": [
    "### 3. Scraping & Storing"
   ]
  },
  {
   "cell_type": "code",
   "execution_count": null,
   "id": "3c4d0b8c",
   "metadata": {},
   "outputs": [],
   "source": [
    "for url in fixed:\n",
    "    print(url)\n",
    "    response = scraper.get(url)\n",
    "    scraper.parse(response)\n",
    "\n",
    "    #Storing\n",
    "    print(scraper.news_title)\n",
    "    df1 = pd.DataFrame(data={'url': url, 'title':scraper.news_title, 'content':scraper.news_text},index=['url', 'title', 'content'])\n",
    "    df = df.append(df1, ignore_index=True )"
   ]
  },
  {
   "cell_type": "code",
   "execution_count": 69,
   "id": "24bb48c9",
   "metadata": {},
   "outputs": [],
   "source": [
    "df = df.drop_duplicates()\n",
    "df.to_csv(\"data/constitutions.csv\", index=False)"
   ]
  },
  {
   "cell_type": "code",
   "execution_count": 70,
   "id": "f80132be",
   "metadata": {},
   "outputs": [
    {
     "name": "stdout",
     "output_type": "stream",
     "text": [
      "229\n"
     ]
    },
    {
     "data": {
      "text/html": [
       "<div>\n",
       "<style scoped>\n",
       "    .dataframe tbody tr th:only-of-type {\n",
       "        vertical-align: middle;\n",
       "    }\n",
       "\n",
       "    .dataframe tbody tr th {\n",
       "        vertical-align: top;\n",
       "    }\n",
       "\n",
       "    .dataframe thead th {\n",
       "        text-align: right;\n",
       "    }\n",
       "</style>\n",
       "<table border=\"1\" class=\"dataframe\">\n",
       "  <thead>\n",
       "    <tr style=\"text-align: right;\">\n",
       "      <th></th>\n",
       "      <th>url</th>\n",
       "      <th>title</th>\n",
       "      <th>content</th>\n",
       "    </tr>\n",
       "  </thead>\n",
       "  <tbody>\n",
       "    <tr>\n",
       "      <th>0</th>\n",
       "      <td>https://constituteproject.org/constitution/Bru...</td>\n",
       "      <td>Brunei Darussalam 1959 (rev. 2006)</td>\n",
       "      <td>WHEREAS provision is being made in a separate ...</td>\n",
       "    </tr>\n",
       "    <tr>\n",
       "      <th>4</th>\n",
       "      <td>https://constituteproject.org/constitution/Cub...</td>\n",
       "      <td>Cuba 2018 - [[ getTranslation('Draft of {times...</td>\n",
       "      <td>WE, CUBAN CITIZENS,inspired by the heroism and...</td>\n",
       "    </tr>\n",
       "    <tr>\n",
       "      <th>7</th>\n",
       "      <td>https://constituteproject.org/constitution/Sey...</td>\n",
       "      <td>Seychelles 1993 (rev. 2017) Subsequently amended</td>\n",
       "      <td>We, the People of Seychelles,GRATEFUL to Almig...</td>\n",
       "    </tr>\n",
       "    <tr>\n",
       "      <th>10</th>\n",
       "      <td>https://constituteproject.org/constitution/St_...</td>\n",
       "      <td>Saint Vincent and the Grenadines 1979</td>\n",
       "      <td>WHEREAS the Peoples of the Islands of Saint Vi...</td>\n",
       "    </tr>\n",
       "    <tr>\n",
       "      <th>13</th>\n",
       "      <td>https://constituteproject.org/constitution/Den...</td>\n",
       "      <td>Denmark 1953</td>\n",
       "      <td>1. This Constitution Act shall apply to all pa...</td>\n",
       "    </tr>\n",
       "    <tr>\n",
       "      <th>16</th>\n",
       "      <td>https://constituteproject.org/constitution/Fin...</td>\n",
       "      <td>Finland 1999 (rev. 2011) Subsequently amended</td>\n",
       "      <td>Finland is a sovereign republic.The constituti...</td>\n",
       "    </tr>\n",
       "    <tr>\n",
       "      <th>19</th>\n",
       "      <td>https://constituteproject.org/constitution/Alg...</td>\n",
       "      <td>Algeria 1989 (reinst. 1996, rev. 2016) Historical</td>\n",
       "      <td>The Algerian people are a free people; and the...</td>\n",
       "    </tr>\n",
       "    <tr>\n",
       "      <th>22</th>\n",
       "      <td>https://constituteproject.org/constitution/Sud...</td>\n",
       "      <td>Sudan 2005 Historical</td>\n",
       "      <td>We the people of the SudanGrateful to Almighty...</td>\n",
       "    </tr>\n",
       "    <tr>\n",
       "      <th>25</th>\n",
       "      <td>https://constituteproject.org/constitution/St_...</td>\n",
       "      <td>Saint Kitts and Nevis 1983</td>\n",
       "      <td>WHEREAS the People of Saint Christopher and Ne...</td>\n",
       "    </tr>\n",
       "    <tr>\n",
       "      <th>28</th>\n",
       "      <td>https://constituteproject.org/constitution/Tur...</td>\n",
       "      <td>Turkey 1982 (rev. 2017)</td>\n",
       "      <td>Affirming the eternal existence of the Turkish...</td>\n",
       "    </tr>\n",
       "  </tbody>\n",
       "</table>\n",
       "</div>"
      ],
      "text/plain": [
       "                                                  url  \\\n",
       "0   https://constituteproject.org/constitution/Bru...   \n",
       "4   https://constituteproject.org/constitution/Cub...   \n",
       "7   https://constituteproject.org/constitution/Sey...   \n",
       "10  https://constituteproject.org/constitution/St_...   \n",
       "13  https://constituteproject.org/constitution/Den...   \n",
       "16  https://constituteproject.org/constitution/Fin...   \n",
       "19  https://constituteproject.org/constitution/Alg...   \n",
       "22  https://constituteproject.org/constitution/Sud...   \n",
       "25  https://constituteproject.org/constitution/St_...   \n",
       "28  https://constituteproject.org/constitution/Tur...   \n",
       "\n",
       "                                                title  \\\n",
       "0                  Brunei Darussalam 1959 (rev. 2006)   \n",
       "4   Cuba 2018 - [[ getTranslation('Draft of {times...   \n",
       "7    Seychelles 1993 (rev. 2017) Subsequently amended   \n",
       "10              Saint Vincent and the Grenadines 1979   \n",
       "13                                       Denmark 1953   \n",
       "16      Finland 1999 (rev. 2011) Subsequently amended   \n",
       "19  Algeria 1989 (reinst. 1996, rev. 2016) Historical   \n",
       "22                              Sudan 2005 Historical   \n",
       "25                         Saint Kitts and Nevis 1983   \n",
       "28                            Turkey 1982 (rev. 2017)   \n",
       "\n",
       "                                              content  \n",
       "0   WHEREAS provision is being made in a separate ...  \n",
       "4   WE, CUBAN CITIZENS,inspired by the heroism and...  \n",
       "7   We, the People of Seychelles,GRATEFUL to Almig...  \n",
       "10  WHEREAS the Peoples of the Islands of Saint Vi...  \n",
       "13  1. This Constitution Act shall apply to all pa...  \n",
       "16  Finland is a sovereign republic.The constituti...  \n",
       "19  The Algerian people are a free people; and the...  \n",
       "22  We the people of the SudanGrateful to Almighty...  \n",
       "25  WHEREAS the People of Saint Christopher and Ne...  \n",
       "28  Affirming the eternal existence of the Turkish...  "
      ]
     },
     "execution_count": 70,
     "metadata": {},
     "output_type": "execute_result"
    }
   ],
   "source": [
    "print(len(df))\n",
    "df.head(10)\n"
   ]
  },
  {
   "cell_type": "code",
   "execution_count": null,
   "id": "f536898f",
   "metadata": {},
   "outputs": [],
   "source": []
  }
 ],
 "metadata": {
  "kernelspec": {
   "display_name": "Python 3 (ipykernel)",
   "language": "python",
   "name": "python3"
  },
  "language_info": {
   "codemirror_mode": {
    "name": "ipython",
    "version": 3
   },
   "file_extension": ".py",
   "mimetype": "text/x-python",
   "name": "python",
   "nbconvert_exporter": "python",
   "pygments_lexer": "ipython3",
   "version": "3.9.7"
  }
 },
 "nbformat": 4,
 "nbformat_minor": 5
}

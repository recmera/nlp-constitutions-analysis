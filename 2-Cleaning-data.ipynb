{
 "cells": [
  {
   "cell_type": "code",
   "execution_count": 1,
   "id": "a855f2b6",
   "metadata": {},
   "outputs": [],
   "source": [
    "import pandas as pd\n",
    "text = pd.read_csv(\"data/constitutions.csv\")\n",
    "labels = pd.read_csv(\"data/world-bank.csv\")\n",
    "text['country'] = text['country'].replace(['united-states-of-america'],'united-states')"
   ]
  },
  {
   "cell_type": "code",
   "execution_count": 2,
   "id": "001b6273",
   "metadata": {},
   "outputs": [],
   "source": [
    "countries_labels = set(dict.fromkeys(labels['country']))\n",
    "countries_text = set(dict.fromkeys(text['country']))\n",
    "negative_intersection = countries_labels.symmetric_difference(countries_text)"
   ]
  },
  {
   "cell_type": "code",
   "execution_count": 3,
   "id": "24873b30",
   "metadata": {
    "scrolled": true
   },
   "outputs": [
    {
     "name": "stdout",
     "output_type": "stream",
     "text": [
      "{'timo', 'kyrgyzstan', 'taiwan', 'saint-lucia', 'micronesia', 'korea', 'saint-vincent-and-the-grenadines', 'saint-kitts-and-nevis', 'lao-peopl', 'baden', 'congo', 'egypt', 'palestine', 'yemen', 'bavaria', 'iran', 'guine', 'slovakia'}\n"
     ]
    }
   ],
   "source": [
    "print(negative_intersection)"
   ]
  },
  {
   "cell_type": "code",
   "execution_count": 4,
   "id": "595dc88c",
   "metadata": {},
   "outputs": [],
   "source": [
    "not_labeled = pd.DataFrame((text.loc[text['country'] =='saint-kitts-and-nevis']))\n",
    "for elem in list(negative_intersection):\n",
    "    not_labeled = not_labeled.append(text.loc[text['country'] == elem], ignore_index=False)\n",
    "    text = text[text.country != elem]\n",
    "    "
   ]
  },
  {
   "cell_type": "code",
   "execution_count": 5,
   "id": "bac98c42",
   "metadata": {},
   "outputs": [],
   "source": [
    "countries_labels = set(dict.fromkeys(labels['country']))\n",
    "countries_text = set(dict.fromkeys(text['country']))\n",
    "negative_intersection = countries_labels.symmetric_difference(countries_text)"
   ]
  },
  {
   "cell_type": "code",
   "execution_count": 6,
   "id": "6c32e7b3",
   "metadata": {
    "scrolled": true
   },
   "outputs": [
    {
     "data": {
      "text/plain": [
       "set()"
      ]
     },
     "execution_count": 6,
     "metadata": {},
     "output_type": "execute_result"
    }
   ],
   "source": [
    "negative_intersection"
   ]
  },
  {
   "cell_type": "code",
   "execution_count": 11,
   "id": "550739e8",
   "metadata": {},
   "outputs": [],
   "source": [
    "import numpy as np\n",
    "\n",
    "labels.replace(\"..\", np.nan, inplace=True)"
   ]
  },
  {
   "cell_type": "code",
   "execution_count": 12,
   "id": "61695ed3",
   "metadata": {},
   "outputs": [
    {
     "name": "stdout",
     "output_type": "stream",
     "text": [
      "<class 'pandas.core.frame.DataFrame'>\n",
      "RangeIndex: 704 entries, 0 to 703\n",
      "Data columns (total 59 columns):\n",
      " #   Column                                                                       Non-Null Count  Dtype \n",
      "---  ------                                                                       --------------  ----- \n",
      " 0   Population, total (millions)                                                 703 non-null    object\n",
      " 1   Population growth (annual %)                                                 703 non-null    object\n",
      " 2   Surface area (sq. km) (thousands)                                            699 non-null    object\n",
      " 3   Population density (people per sq. km of land area)                          701 non-null    object\n",
      " 4   Poverty headcount ratio at national poverty lines (% of population)          241 non-null    object\n",
      " 5   Poverty headcount ratio at $1.90 a day (2011 PPP) (% of population)          395 non-null    object\n",
      " 6   GNI, Atlas method (current US$) (billions)                                   647 non-null    object\n",
      " 7   GNI per capita, Atlas method (current US$)                                   647 non-null    object\n",
      " 8   GNI, PPP (current international $) (billions)                                641 non-null    object\n",
      " 9   GNI per capita, PPP (current international $)                                640 non-null    object\n",
      " 10  Income share held by lowest 20%                                              391 non-null    object\n",
      " 11  Life expectancy at birth, total (years)                                      681 non-null    object\n",
      " 12  Fertility rate, total (births per woman)                                     684 non-null    object\n",
      " 13  Adolescent fertility rate (births per 1,000 women ages 15-19)                668 non-null    object\n",
      " 14  Contraceptive prevalence, any method (% of married women ages 15-49)         438 non-null    object\n",
      " 15  Births attended by skilled health staff (% of total)                         542 non-null    object\n",
      " 16  Mortality rate, under-5 (per 1,000 live births)                              696 non-null    object\n",
      " 17  Prevalence of underweight, weight for age (% of children under 5)            353 non-null    object\n",
      " 18  Immunization, measles (% of children ages 12-23 months)                      688 non-null    object\n",
      " 19  Primary completion rate, total (% of relevant age group)                     531 non-null    object\n",
      " 20  School enrollment, primary (% gross)                                         634 non-null    object\n",
      " 21  School enrollment, secondary (% gross)                                       597 non-null    object\n",
      " 22  School enrollment, primary and secondary (gross), gender parity index (GPI)  580 non-null    object\n",
      " 23  Prevalence of HIV, total (% of population ages 15-49)                        498 non-null    object\n",
      " 24  Forest area (sq. km) (thousands)                                             698 non-null    object\n",
      " 25  Terrestrial and marine protected areas (% of total territorial area)         173 non-null    object\n",
      " 26  Annual freshwater withdrawals, total (% of internal resources)               574 non-null    object\n",
      " 27  Urban population growth (annual %)                                           699 non-null    object\n",
      " 28  Energy use (kg of oil equivalent per capita)                                 424 non-null    object\n",
      " 29  CO2 emissions (metric tons per capita)                                       696 non-null    object\n",
      " 30  Electric power consumption (kWh per capita)                                  377 non-null    object\n",
      " 31  GDP (current US$) (billions)                                                 679 non-null    object\n",
      " 32  GDP growth (annual %)                                                        668 non-null    object\n",
      " 33  Inflation, GDP deflator (annual %)                                           668 non-null    object\n",
      " 34  Agriculture, forestry, and fishing, value added (% of GDP)                   626 non-null    object\n",
      " 35  Industry (including construction), value added (% of GDP)                    624 non-null    object\n",
      " 36  Exports of goods and services (% of GDP)                                     607 non-null    object\n",
      " 37  Imports of goods and services (% of GDP)                                     607 non-null    object\n",
      " 38  Gross capital formation (% of GDP)                                           592 non-null    object\n",
      " 39  Revenue, excluding grants (% of GDP)                                         421 non-null    object\n",
      " 40  Net lending (+) / net borrowing (-) (% of GDP)                               407 non-null    object\n",
      " 41  Time required to start a business (days)                                     457 non-null    object\n",
      " 42  Domestic credit provided by financial sector (% of GDP)                      134 non-null    object\n",
      " 43  Tax revenue (% of GDP)                                                       422 non-null    object\n",
      " 44  Military expenditure (% of GDP)                                              572 non-null    object\n",
      " 45  Mobile cellular subscriptions (per 100 people)                               692 non-null    object\n",
      " 46  Individuals using the Internet (% of population)                             683 non-null    object\n",
      " 47  High-technology exports (% of manufactured exports)                          285 non-null    object\n",
      " 48  Statistical Capacity Score (Overall Average) (scale 0 - 100)                 260 non-null    object\n",
      " 49  Merchandise trade (% of GDP)                                                 657 non-null    object\n",
      " 50  Net barter terms of trade index (2000 = 100)                                 587 non-null    object\n",
      " 51  External debt stocks, total (DOD, current US$) (millions)                    432 non-null    object\n",
      " 52  Total debt service (% of exports of goods, services and primary income)      395 non-null    object\n",
      " 53  Net migration (thousands)                                                    668 non-null    object\n",
      " 54  Personal remittances, received (current US$) (millions)                      594 non-null    object\n",
      " 55  Foreign direct investment, net inflows (BoP, current US$) (millions)         673 non-null    object\n",
      " 56  Net official development assistance received (current US$) (millions)        518 non-null    object\n",
      " 57  Date                                                                         704 non-null    int64 \n",
      " 58  country                                                                      704 non-null    object\n",
      "dtypes: int64(1), object(58)\n",
      "memory usage: 324.6+ KB\n"
     ]
    }
   ],
   "source": [
    "labels.info()"
   ]
  },
  {
   "cell_type": "code",
   "execution_count": null,
   "id": "08027f44",
   "metadata": {},
   "outputs": [],
   "source": [
    "# me dio tuto :)"
   ]
  }
 ],
 "metadata": {
  "kernelspec": {
   "display_name": "Python 3 (ipykernel)",
   "language": "python",
   "name": "python3"
  },
  "language_info": {
   "codemirror_mode": {
    "name": "ipython",
    "version": 3
   },
   "file_extension": ".py",
   "mimetype": "text/x-python",
   "name": "python",
   "nbconvert_exporter": "python",
   "pygments_lexer": "ipython3",
   "version": "3.9.7"
  }
 },
 "nbformat": 4,
 "nbformat_minor": 5
}

{
 "cells": [
  {
   "cell_type": "code",
   "execution_count": 1,
   "id": "a855f2b6",
   "metadata": {},
   "outputs": [],
   "source": [
    "import pandas as pd\n",
    "text = pd.read_csv(\"data/constitutions.csv\")\n",
    "labels = pd.read_csv(\"data/world-bank.csv\")\n",
    "text['country'] = text['country'].replace(['united-states-of-america'],'united-states')"
   ]
  },
  {
   "cell_type": "code",
   "execution_count": 2,
   "id": "001b6273",
   "metadata": {},
   "outputs": [],
   "source": [
    "countries_labels = set(dict.fromkeys(labels['country']))\n",
    "countries_text = set(dict.fromkeys(text['country']))\n",
    "negative_intersection = countries_labels.symmetric_difference(countries_text)"
   ]
  },
  {
   "cell_type": "code",
   "execution_count": 3,
   "id": "24873b30",
   "metadata": {
    "scrolled": true
   },
   "outputs": [
    {
     "name": "stdout",
     "output_type": "stream",
     "text": [
      "{'guine', 'yemen', 'baden', 'korea', 'iran', 'saint-lucia', 'lao-peopl', 'egypt', 'saint-kitts-and-nevis', 'kyrgyzstan', 'congo', 'micronesia', 'palestine', 'slovakia', 'bavaria', 'taiwan', 'timo', 'saint-vincent-and-the-grenadines'}\n"
     ]
    }
   ],
   "source": [
    "print(negative_intersection)"
   ]
  },
  {
   "cell_type": "code",
   "execution_count": 4,
   "id": "595dc88c",
   "metadata": {},
   "outputs": [],
   "source": [
    "not_labeled = pd.DataFrame((text.loc[text['country'] =='saint-kitts-and-nevis']))\n",
    "for elem in list(negative_intersection):\n",
    "    not_labeled = not_labeled.append(text.loc[text['country'] == elem], ignore_index=False)\n",
    "    text = text[text.country != elem]\n",
    "    "
   ]
  },
  {
   "cell_type": "code",
   "execution_count": 5,
   "id": "bac98c42",
   "metadata": {},
   "outputs": [],
   "source": [
    "countries_labels = set(dict.fromkeys(labels['country']))\n",
    "countries_text = set(dict.fromkeys(text['country']))\n",
    "negative_intersection = countries_labels.symmetric_difference(countries_text)"
   ]
  },
  {
   "cell_type": "code",
   "execution_count": 6,
   "id": "6c32e7b3",
   "metadata": {
    "scrolled": true
   },
   "outputs": [
    {
     "data": {
      "text/plain": [
       "set()"
      ]
     },
     "execution_count": 6,
     "metadata": {},
     "output_type": "execute_result"
    }
   ],
   "source": [
    "negative_intersection"
   ]
  },
  {
   "cell_type": "code",
   "execution_count": 7,
   "id": "550739e8",
   "metadata": {},
   "outputs": [],
   "source": [
    "import numpy as np\n",
    "\n",
    "labels.replace(\"..\", np.nan, inplace=True)"
   ]
  },
  {
   "cell_type": "code",
   "execution_count": 8,
   "id": "61695ed3",
   "metadata": {},
   "outputs": [
    {
     "name": "stdout",
     "output_type": "stream",
     "text": [
      "<class 'pandas.core.frame.DataFrame'>\n",
      "RangeIndex: 704 entries, 0 to 703\n",
      "Data columns (total 59 columns):\n",
      " #   Column                                                                       Non-Null Count  Dtype \n",
      "---  ------                                                                       --------------  ----- \n",
      " 0   Population, total (millions)                                                 703 non-null    object\n",
      " 1   Population growth (annual %)                                                 703 non-null    object\n",
      " 2   Surface area (sq. km) (thousands)                                            699 non-null    object\n",
      " 3   Population density (people per sq. km of land area)                          701 non-null    object\n",
      " 4   Poverty headcount ratio at national poverty lines (% of population)          241 non-null    object\n",
      " 5   Poverty headcount ratio at $1.90 a day (2011 PPP) (% of population)          395 non-null    object\n",
      " 6   GNI, Atlas method (current US$) (billions)                                   647 non-null    object\n",
      " 7   GNI per capita, Atlas method (current US$)                                   647 non-null    object\n",
      " 8   GNI, PPP (current international $) (billions)                                641 non-null    object\n",
      " 9   GNI per capita, PPP (current international $)                                640 non-null    object\n",
      " 10  Income share held by lowest 20%                                              391 non-null    object\n",
      " 11  Life expectancy at birth, total (years)                                      681 non-null    object\n",
      " 12  Fertility rate, total (births per woman)                                     684 non-null    object\n",
      " 13  Adolescent fertility rate (births per 1,000 women ages 15-19)                668 non-null    object\n",
      " 14  Contraceptive prevalence, any method (% of married women ages 15-49)         438 non-null    object\n",
      " 15  Births attended by skilled health staff (% of total)                         542 non-null    object\n",
      " 16  Mortality rate, under-5 (per 1,000 live births)                              696 non-null    object\n",
      " 17  Prevalence of underweight, weight for age (% of children under 5)            353 non-null    object\n",
      " 18  Immunization, measles (% of children ages 12-23 months)                      688 non-null    object\n",
      " 19  Primary completion rate, total (% of relevant age group)                     531 non-null    object\n",
      " 20  School enrollment, primary (% gross)                                         634 non-null    object\n",
      " 21  School enrollment, secondary (% gross)                                       597 non-null    object\n",
      " 22  School enrollment, primary and secondary (gross), gender parity index (GPI)  580 non-null    object\n",
      " 23  Prevalence of HIV, total (% of population ages 15-49)                        498 non-null    object\n",
      " 24  Forest area (sq. km) (thousands)                                             698 non-null    object\n",
      " 25  Terrestrial and marine protected areas (% of total territorial area)         173 non-null    object\n",
      " 26  Annual freshwater withdrawals, total (% of internal resources)               574 non-null    object\n",
      " 27  Urban population growth (annual %)                                           699 non-null    object\n",
      " 28  Energy use (kg of oil equivalent per capita)                                 424 non-null    object\n",
      " 29  CO2 emissions (metric tons per capita)                                       696 non-null    object\n",
      " 30  Electric power consumption (kWh per capita)                                  377 non-null    object\n",
      " 31  GDP (current US$) (billions)                                                 679 non-null    object\n",
      " 32  GDP growth (annual %)                                                        668 non-null    object\n",
      " 33  Inflation, GDP deflator (annual %)                                           668 non-null    object\n",
      " 34  Agriculture, forestry, and fishing, value added (% of GDP)                   626 non-null    object\n",
      " 35  Industry (including construction), value added (% of GDP)                    624 non-null    object\n",
      " 36  Exports of goods and services (% of GDP)                                     607 non-null    object\n",
      " 37  Imports of goods and services (% of GDP)                                     607 non-null    object\n",
      " 38  Gross capital formation (% of GDP)                                           592 non-null    object\n",
      " 39  Revenue, excluding grants (% of GDP)                                         421 non-null    object\n",
      " 40  Net lending (+) / net borrowing (-) (% of GDP)                               407 non-null    object\n",
      " 41  Time required to start a business (days)                                     457 non-null    object\n",
      " 42  Domestic credit provided by financial sector (% of GDP)                      134 non-null    object\n",
      " 43  Tax revenue (% of GDP)                                                       422 non-null    object\n",
      " 44  Military expenditure (% of GDP)                                              572 non-null    object\n",
      " 45  Mobile cellular subscriptions (per 100 people)                               692 non-null    object\n",
      " 46  Individuals using the Internet (% of population)                             683 non-null    object\n",
      " 47  High-technology exports (% of manufactured exports)                          285 non-null    object\n",
      " 48  Statistical Capacity Score (Overall Average) (scale 0 - 100)                 260 non-null    object\n",
      " 49  Merchandise trade (% of GDP)                                                 657 non-null    object\n",
      " 50  Net barter terms of trade index (2000 = 100)                                 587 non-null    object\n",
      " 51  External debt stocks, total (DOD, current US$) (millions)                    432 non-null    object\n",
      " 52  Total debt service (% of exports of goods, services and primary income)      395 non-null    object\n",
      " 53  Net migration (thousands)                                                    668 non-null    object\n",
      " 54  Personal remittances, received (current US$) (millions)                      594 non-null    object\n",
      " 55  Foreign direct investment, net inflows (BoP, current US$) (millions)         673 non-null    object\n",
      " 56  Net official development assistance received (current US$) (millions)        518 non-null    object\n",
      " 57  Date                                                                         704 non-null    int64 \n",
      " 58  country                                                                      704 non-null    object\n",
      "dtypes: int64(1), object(58)\n",
      "memory usage: 324.6+ KB\n"
     ]
    }
   ],
   "source": [
    "labels.to_csv(\"data/labels.csv\", index=False)\n",
    "labels.info()\n"
   ]
  },
  {
   "cell_type": "code",
   "execution_count": 9,
   "id": "08027f44",
   "metadata": {},
   "outputs": [],
   "source": [
    "labels.drop(columns=['Poverty headcount ratio at national poverty lines (% of population)',\n",
    "                     'Poverty headcount ratio at $1.90 a day (2011 PPP) (% of population)',\n",
    "                     'Income share held by lowest 20%',\n",
    "                     'Contraceptive prevalence, any method (% of married women ages 15-49)',\n",
    "                     'Prevalence of underweight, weight for age (% of children under 5)',\n",
    "                     'Terrestrial and marine protected areas (% of total territorial area)',\n",
    "                     'Electric power consumption (kWh per capita)',\n",
    "                     'Energy use (kg of oil equivalent per capita)',\n",
    "                     'Net lending (+) / net borrowing (-) (% of GDP)',\n",
    "                     'Domestic credit provided by financial sector (% of GDP)',\n",
    "                     'High-technology exports (% of manufactured exports)',\n",
    "                     'Revenue, excluding grants (% of GDP)',\n",
    "                     'Statistical Capacity Score (Overall Average) (scale 0 - 100)',\n",
    "                     'Total debt service (% of exports of goods, services and primary income)',\n",
    "                     'Tax revenue (% of GDP)',\n",
    "                     'External debt stocks, total (DOD, current US$) (millions)',\n",
    "                     \n",
    "                    ], inplace=True)"
   ]
  },
  {
   "cell_type": "code",
   "execution_count": 10,
   "id": "4cbcb22e",
   "metadata": {},
   "outputs": [
    {
     "name": "stdout",
     "output_type": "stream",
     "text": [
      "<class 'pandas.core.frame.DataFrame'>\n",
      "RangeIndex: 704 entries, 0 to 703\n",
      "Data columns (total 43 columns):\n",
      " #   Column                                                                       Non-Null Count  Dtype \n",
      "---  ------                                                                       --------------  ----- \n",
      " 0   Population, total (millions)                                                 703 non-null    object\n",
      " 1   Population growth (annual %)                                                 703 non-null    object\n",
      " 2   Surface area (sq. km) (thousands)                                            699 non-null    object\n",
      " 3   Population density (people per sq. km of land area)                          701 non-null    object\n",
      " 4   GNI, Atlas method (current US$) (billions)                                   647 non-null    object\n",
      " 5   GNI per capita, Atlas method (current US$)                                   647 non-null    object\n",
      " 6   GNI, PPP (current international $) (billions)                                641 non-null    object\n",
      " 7   GNI per capita, PPP (current international $)                                640 non-null    object\n",
      " 8   Life expectancy at birth, total (years)                                      681 non-null    object\n",
      " 9   Fertility rate, total (births per woman)                                     684 non-null    object\n",
      " 10  Adolescent fertility rate (births per 1,000 women ages 15-19)                668 non-null    object\n",
      " 11  Births attended by skilled health staff (% of total)                         542 non-null    object\n",
      " 12  Mortality rate, under-5 (per 1,000 live births)                              696 non-null    object\n",
      " 13  Immunization, measles (% of children ages 12-23 months)                      688 non-null    object\n",
      " 14  Primary completion rate, total (% of relevant age group)                     531 non-null    object\n",
      " 15  School enrollment, primary (% gross)                                         634 non-null    object\n",
      " 16  School enrollment, secondary (% gross)                                       597 non-null    object\n",
      " 17  School enrollment, primary and secondary (gross), gender parity index (GPI)  580 non-null    object\n",
      " 18  Prevalence of HIV, total (% of population ages 15-49)                        498 non-null    object\n",
      " 19  Forest area (sq. km) (thousands)                                             698 non-null    object\n",
      " 20  Annual freshwater withdrawals, total (% of internal resources)               574 non-null    object\n",
      " 21  Urban population growth (annual %)                                           699 non-null    object\n",
      " 22  CO2 emissions (metric tons per capita)                                       696 non-null    object\n",
      " 23  GDP (current US$) (billions)                                                 679 non-null    object\n",
      " 24  GDP growth (annual %)                                                        668 non-null    object\n",
      " 25  Inflation, GDP deflator (annual %)                                           668 non-null    object\n",
      " 26  Agriculture, forestry, and fishing, value added (% of GDP)                   626 non-null    object\n",
      " 27  Industry (including construction), value added (% of GDP)                    624 non-null    object\n",
      " 28  Exports of goods and services (% of GDP)                                     607 non-null    object\n",
      " 29  Imports of goods and services (% of GDP)                                     607 non-null    object\n",
      " 30  Gross capital formation (% of GDP)                                           592 non-null    object\n",
      " 31  Time required to start a business (days)                                     457 non-null    object\n",
      " 32  Military expenditure (% of GDP)                                              572 non-null    object\n",
      " 33  Mobile cellular subscriptions (per 100 people)                               692 non-null    object\n",
      " 34  Individuals using the Internet (% of population)                             683 non-null    object\n",
      " 35  Merchandise trade (% of GDP)                                                 657 non-null    object\n",
      " 36  Net barter terms of trade index (2000 = 100)                                 587 non-null    object\n",
      " 37  Net migration (thousands)                                                    668 non-null    object\n",
      " 38  Personal remittances, received (current US$) (millions)                      594 non-null    object\n",
      " 39  Foreign direct investment, net inflows (BoP, current US$) (millions)         673 non-null    object\n",
      " 40  Net official development assistance received (current US$) (millions)        518 non-null    object\n",
      " 41  Date                                                                         704 non-null    int64 \n",
      " 42  country                                                                      704 non-null    object\n",
      "dtypes: int64(1), object(42)\n",
      "memory usage: 236.6+ KB\n"
     ]
    }
   ],
   "source": [
    "labels.info()"
   ]
  },
  {
   "cell_type": "code",
   "execution_count": 39,
   "id": "c16d7b99",
   "metadata": {
    "scrolled": false
   },
   "outputs": [
    {
     "data": {
      "text/html": [
       "<div>\n",
       "<style scoped>\n",
       "    .dataframe tbody tr th:only-of-type {\n",
       "        vertical-align: middle;\n",
       "    }\n",
       "\n",
       "    .dataframe tbody tr th {\n",
       "        vertical-align: top;\n",
       "    }\n",
       "\n",
       "    .dataframe thead th {\n",
       "        text-align: right;\n",
       "    }\n",
       "</style>\n",
       "<table border=\"1\" class=\"dataframe\">\n",
       "  <thead>\n",
       "    <tr style=\"text-align: right;\">\n",
       "      <th></th>\n",
       "      <th>url</th>\n",
       "      <th>title</th>\n",
       "      <th>content</th>\n",
       "      <th>country</th>\n",
       "      <th>year</th>\n",
       "      <th>latest rev</th>\n",
       "    </tr>\n",
       "  </thead>\n",
       "  <tbody>\n",
       "    <tr>\n",
       "      <th>0</th>\n",
       "      <td>https://constituteproject.org/constitution/Afg...</td>\n",
       "      <td>Afghanistan 1964 Historical</td>\n",
       "      <td>in the name of god, the almighty and the just....</td>\n",
       "      <td>afghanistan</td>\n",
       "      <td>1964</td>\n",
       "      <td>1964</td>\n",
       "    </tr>\n",
       "    <tr>\n",
       "      <th>1</th>\n",
       "      <td>https://constituteproject.org/constitution/Afg...</td>\n",
       "      <td>Afghanistan 2004</td>\n",
       "      <td>in the name of allah, the most beneficent, the...</td>\n",
       "      <td>afghanistan</td>\n",
       "      <td>2004</td>\n",
       "      <td>2004</td>\n",
       "    </tr>\n",
       "    <tr>\n",
       "      <th>2</th>\n",
       "      <td>https://constituteproject.org/constitution/Alb...</td>\n",
       "      <td>Albania 1998 (rev. 2016) Subsequently amended</td>\n",
       "      <td>we, the people of albania, proud and aware of ...</td>\n",
       "      <td>albania</td>\n",
       "      <td>1998</td>\n",
       "      <td>2016</td>\n",
       "    </tr>\n",
       "    <tr>\n",
       "      <th>3</th>\n",
       "      <td>https://constituteproject.org/constitution/Alg...</td>\n",
       "      <td>Algeria 1989 (reinst. 1996, rev. 2016) Historical</td>\n",
       "      <td>the algerian people are a free people; and the...</td>\n",
       "      <td>algeria</td>\n",
       "      <td>1989</td>\n",
       "      <td>2016</td>\n",
       "    </tr>\n",
       "    <tr>\n",
       "      <th>4</th>\n",
       "      <td>https://constituteproject.org/constitution/Alg...</td>\n",
       "      <td>Algeria 2020</td>\n",
       "      <td>the algerian people are a free people; and the...</td>\n",
       "      <td>algeria</td>\n",
       "      <td>2020</td>\n",
       "      <td>2020</td>\n",
       "    </tr>\n",
       "    <tr>\n",
       "      <th>5</th>\n",
       "      <td>https://constituteproject.org/constitution/And...</td>\n",
       "      <td>Andorra 1993</td>\n",
       "      <td>the andorran people, with full liberty and ind...</td>\n",
       "      <td>andorra</td>\n",
       "      <td>1993</td>\n",
       "      <td>1993</td>\n",
       "    </tr>\n",
       "    <tr>\n",
       "      <th>6</th>\n",
       "      <td>https://constituteproject.org/constitution/Ang...</td>\n",
       "      <td>Angola 2010</td>\n",
       "      <td>we, the people of angola, through its lawful r...</td>\n",
       "      <td>angola</td>\n",
       "      <td>2010</td>\n",
       "      <td>2010</td>\n",
       "    </tr>\n",
       "    <tr>\n",
       "      <th>7</th>\n",
       "      <td>https://constituteproject.org/constitution/Ant...</td>\n",
       "      <td>Antigua and Barbuda 1981</td>\n",
       "      <td>whereas the people of antigua and barbuda-a. p...</td>\n",
       "      <td>antigua-and-barbuda</td>\n",
       "      <td>1981</td>\n",
       "      <td>1981</td>\n",
       "    </tr>\n",
       "    <tr>\n",
       "      <th>8</th>\n",
       "      <td>https://constituteproject.org/constitution/Arg...</td>\n",
       "      <td>Argentina 1853 (reinst. 1983, rev. 1994)</td>\n",
       "      <td>we, the representatives of the people of the a...</td>\n",
       "      <td>argentina</td>\n",
       "      <td>1853</td>\n",
       "      <td>1994</td>\n",
       "    </tr>\n",
       "    <tr>\n",
       "      <th>9</th>\n",
       "      <td>https://constituteproject.org/constitution/Arm...</td>\n",
       "      <td>Armenia 1995 (rev. 2015) Subsequently amended</td>\n",
       "      <td>the armenian people, accepting as a basis the ...</td>\n",
       "      <td>armenia</td>\n",
       "      <td>1995</td>\n",
       "      <td>2015</td>\n",
       "    </tr>\n",
       "  </tbody>\n",
       "</table>\n",
       "</div>"
      ],
      "text/plain": [
       "                                                 url  \\\n",
       "0  https://constituteproject.org/constitution/Afg...   \n",
       "1  https://constituteproject.org/constitution/Afg...   \n",
       "2  https://constituteproject.org/constitution/Alb...   \n",
       "3  https://constituteproject.org/constitution/Alg...   \n",
       "4  https://constituteproject.org/constitution/Alg...   \n",
       "5  https://constituteproject.org/constitution/And...   \n",
       "6  https://constituteproject.org/constitution/Ang...   \n",
       "7  https://constituteproject.org/constitution/Ant...   \n",
       "8  https://constituteproject.org/constitution/Arg...   \n",
       "9  https://constituteproject.org/constitution/Arm...   \n",
       "\n",
       "                                               title  \\\n",
       "0                        Afghanistan 1964 Historical   \n",
       "1                                   Afghanistan 2004   \n",
       "2      Albania 1998 (rev. 2016) Subsequently amended   \n",
       "3  Algeria 1989 (reinst. 1996, rev. 2016) Historical   \n",
       "4                                       Algeria 2020   \n",
       "5                                       Andorra 1993   \n",
       "6                                        Angola 2010   \n",
       "7                           Antigua and Barbuda 1981   \n",
       "8           Argentina 1853 (reinst. 1983, rev. 1994)   \n",
       "9      Armenia 1995 (rev. 2015) Subsequently amended   \n",
       "\n",
       "                                             content              country  \\\n",
       "0  in the name of god, the almighty and the just....          afghanistan   \n",
       "1  in the name of allah, the most beneficent, the...          afghanistan   \n",
       "2  we, the people of albania, proud and aware of ...              albania   \n",
       "3  the algerian people are a free people; and the...              algeria   \n",
       "4  the algerian people are a free people; and the...              algeria   \n",
       "5  the andorran people, with full liberty and ind...              andorra   \n",
       "6  we, the people of angola, through its lawful r...               angola   \n",
       "7  whereas the people of antigua and barbuda-a. p...  antigua-and-barbuda   \n",
       "8  we, the representatives of the people of the a...            argentina   \n",
       "9  the armenian people, accepting as a basis the ...              armenia   \n",
       "\n",
       "   year  latest rev  \n",
       "0  1964        1964  \n",
       "1  2004        2004  \n",
       "2  1998        2016  \n",
       "3  1989        2016  \n",
       "4  2020        2020  \n",
       "5  1993        1993  \n",
       "6  2010        2010  \n",
       "7  1981        1981  \n",
       "8  1853        1994  \n",
       "9  1995        2015  "
      ]
     },
     "execution_count": 39,
     "metadata": {},
     "output_type": "execute_result"
    }
   ],
   "source": [
    "#pd.set_option(\"display.max_rows\", None, \"display.max_columns\", None)\n",
    "text.sort_values(by = ['country', 'year'], ascending = [True, True], ignore_index=True, inplace=True)\n",
    "text.head(10)"
   ]
  },
  {
   "cell_type": "code",
   "execution_count": 32,
   "id": "b9224ace",
   "metadata": {},
   "outputs": [
    {
     "name": "stdout",
     "output_type": "stream",
     "text": [
      "1    in the name of god, the almighty and the just....\n",
      "Name: content, dtype: object\n"
     ]
    }
   ],
   "source": [
    "labels['constitution'] = ''\n",
    "\n",
    "for index, row in labels.iterrows():\n",
    "    #text['content'].loc[(text.country == row['country']) & (text.year < row['year'])]\n",
    "    row['constitution'] = "
   ]
  },
  {
   "cell_type": "code",
   "execution_count": null,
   "id": "a04ef8f5",
   "metadata": {},
   "outputs": [],
   "source": [
    "labels.to_csv(\"data/labels.csv\", index=False)\n"
   ]
  }
 ],
 "metadata": {
  "kernelspec": {
   "display_name": "Python 3 (ipykernel)",
   "language": "python",
   "name": "python3"
  },
  "language_info": {
   "codemirror_mode": {
    "name": "ipython",
    "version": 3
   },
   "file_extension": ".py",
   "mimetype": "text/x-python",
   "name": "python",
   "nbconvert_exporter": "python",
   "pygments_lexer": "ipython3",
   "version": "3.8.10"
  }
 },
 "nbformat": 4,
 "nbformat_minor": 5
}

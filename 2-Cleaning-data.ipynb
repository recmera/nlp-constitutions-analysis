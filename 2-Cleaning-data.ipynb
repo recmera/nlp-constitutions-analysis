{
 "cells": [
  {
   "cell_type": "code",
   "execution_count": 33,
   "id": "a855f2b6",
   "metadata": {},
   "outputs": [],
   "source": [
    "import pandas as pd\n",
    "text = pd.read_csv(\"data/constitutions.csv\")\n",
    "labels = pd.read_csv(\"data/world-bank.csv\")\n",
    "text['country'] = text['country'].replace(['united-states-of-america'],'united-states')"
   ]
  },
  {
   "cell_type": "code",
   "execution_count": 34,
   "id": "001b6273",
   "metadata": {},
   "outputs": [],
   "source": [
    "countries_labels = set(dict.fromkeys(labels['country']))\n",
    "countries_text = set(dict.fromkeys(text['country']))\n",
    "negative_intersection = countries_labels.symmetric_difference(countries_text)"
   ]
  },
  {
   "cell_type": "code",
   "execution_count": 35,
   "id": "24873b30",
   "metadata": {
    "scrolled": true
   },
   "outputs": [
    {
     "name": "stdout",
     "output_type": "stream",
     "text": [
      "{'timo', 'iran', 'saint-vincent-and-the-grenadines', 'baden', 'congo', 'bavaria', 'taiwan', 'slovakia', 'egypt', 'korea', 'yemen', 'palestine', 'saint-lucia', 'micronesia', 'saint-kitts-and-nevis', 'kyrgyzstan', 'guine', 'lao-peopl'}\n"
     ]
    }
   ],
   "source": [
    "print(negative_intersection)"
   ]
  },
  {
   "cell_type": "code",
   "execution_count": 36,
   "id": "595dc88c",
   "metadata": {},
   "outputs": [],
   "source": [
    "not_labeled = pd.DataFrame((text.loc[text['country'] =='saint-kitts-and-nevis']))\n",
    "for elem in list(negative_intersection):\n",
    "    not_labeled = not_labeled.append(text.loc[text['country'] == elem], ignore_index=False)\n",
    "    text = text[text.country != elem]\n",
    "    "
   ]
  },
  {
   "cell_type": "code",
   "execution_count": 37,
   "id": "bac98c42",
   "metadata": {},
   "outputs": [],
   "source": [
    "countries_labels = set(dict.fromkeys(labels['country']))\n",
    "countries_text = set(dict.fromkeys(text['country']))\n",
    "negative_intersection = countries_labels.symmetric_difference(countries_text)"
   ]
  },
  {
   "cell_type": "code",
   "execution_count": 38,
   "id": "6c32e7b3",
   "metadata": {
    "scrolled": true
   },
   "outputs": [
    {
     "data": {
      "text/plain": [
       "set()"
      ]
     },
     "execution_count": 38,
     "metadata": {},
     "output_type": "execute_result"
    }
   ],
   "source": [
    "negative_intersection"
   ]
  },
  {
   "cell_type": "code",
   "execution_count": 39,
   "id": "550739e8",
   "metadata": {},
   "outputs": [],
   "source": [
    "import numpy as np\n",
    "\n",
    "labels.replace(\"..\", np.nan, inplace=True)"
   ]
  },
  {
   "cell_type": "code",
   "execution_count": 43,
   "id": "61695ed3",
   "metadata": {},
   "outputs": [
    {
     "name": "stdout",
     "output_type": "stream",
     "text": [
      "<class 'pandas.core.frame.DataFrame'>\n",
      "RangeIndex: 704 entries, 0 to 703\n",
      "Data columns (total 43 columns):\n",
      " #   Column                                                                       Non-Null Count  Dtype \n",
      "---  ------                                                                       --------------  ----- \n",
      " 0   Population, total (millions)                                                 703 non-null    object\n",
      " 1   Population growth (annual %)                                                 703 non-null    object\n",
      " 2   Surface area (sq. km) (thousands)                                            699 non-null    object\n",
      " 3   Population density (people per sq. km of land area)                          701 non-null    object\n",
      " 4   GNI, Atlas method (current US$) (billions)                                   647 non-null    object\n",
      " 5   GNI per capita, Atlas method (current US$)                                   647 non-null    object\n",
      " 6   GNI, PPP (current international $) (billions)                                641 non-null    object\n",
      " 7   GNI per capita, PPP (current international $)                                640 non-null    object\n",
      " 8   Life expectancy at birth, total (years)                                      681 non-null    object\n",
      " 9   Fertility rate, total (births per woman)                                     684 non-null    object\n",
      " 10  Adolescent fertility rate (births per 1,000 women ages 15-19)                668 non-null    object\n",
      " 11  Births attended by skilled health staff (% of total)                         542 non-null    object\n",
      " 12  Mortality rate, under-5 (per 1,000 live births)                              696 non-null    object\n",
      " 13  Immunization, measles (% of children ages 12-23 months)                      688 non-null    object\n",
      " 14  Primary completion rate, total (% of relevant age group)                     531 non-null    object\n",
      " 15  School enrollment, primary (% gross)                                         634 non-null    object\n",
      " 16  School enrollment, secondary (% gross)                                       597 non-null    object\n",
      " 17  School enrollment, primary and secondary (gross), gender parity index (GPI)  580 non-null    object\n",
      " 18  Prevalence of HIV, total (% of population ages 15-49)                        498 non-null    object\n",
      " 19  Forest area (sq. km) (thousands)                                             698 non-null    object\n",
      " 20  Annual freshwater withdrawals, total (% of internal resources)               574 non-null    object\n",
      " 21  Urban population growth (annual %)                                           699 non-null    object\n",
      " 22  CO2 emissions (metric tons per capita)                                       696 non-null    object\n",
      " 23  GDP (current US$) (billions)                                                 679 non-null    object\n",
      " 24  GDP growth (annual %)                                                        668 non-null    object\n",
      " 25  Inflation, GDP deflator (annual %)                                           668 non-null    object\n",
      " 26  Agriculture, forestry, and fishing, value added (% of GDP)                   626 non-null    object\n",
      " 27  Industry (including construction), value added (% of GDP)                    624 non-null    object\n",
      " 28  Exports of goods and services (% of GDP)                                     607 non-null    object\n",
      " 29  Imports of goods and services (% of GDP)                                     607 non-null    object\n",
      " 30  Gross capital formation (% of GDP)                                           592 non-null    object\n",
      " 31  Time required to start a business (days)                                     457 non-null    object\n",
      " 32  Military expenditure (% of GDP)                                              572 non-null    object\n",
      " 33  Mobile cellular subscriptions (per 100 people)                               692 non-null    object\n",
      " 34  Individuals using the Internet (% of population)                             683 non-null    object\n",
      " 35  Merchandise trade (% of GDP)                                                 657 non-null    object\n",
      " 36  Net barter terms of trade index (2000 = 100)                                 587 non-null    object\n",
      " 37  Net migration (thousands)                                                    668 non-null    object\n",
      " 38  Personal remittances, received (current US$) (millions)                      594 non-null    object\n",
      " 39  Foreign direct investment, net inflows (BoP, current US$) (millions)         673 non-null    object\n",
      " 40  Net official development assistance received (current US$) (millions)        518 non-null    object\n",
      " 41  Date                                                                         704 non-null    int64 \n",
      " 42  country                                                                      704 non-null    object\n",
      "dtypes: int64(1), object(42)\n",
      "memory usage: 236.6+ KB\n"
     ]
    }
   ],
   "source": [
    "labels.to_csv(\"data/labels.csv\", index=False)\n",
    "labels.info()\n"
   ]
  },
  {
   "cell_type": "code",
   "execution_count": 41,
   "id": "08027f44",
   "metadata": {},
   "outputs": [],
   "source": [
    "labels.drop(columns=['Poverty headcount ratio at national poverty lines (% of population)',\n",
    "                     'Poverty headcount ratio at $1.90 a day (2011 PPP) (% of population)',\n",
    "                     'Income share held by lowest 20%',\n",
    "                     'Contraceptive prevalence, any method (% of married women ages 15-49)',\n",
    "                     'Prevalence of underweight, weight for age (% of children under 5)',\n",
    "                     'Terrestrial and marine protected areas (% of total territorial area)',\n",
    "                     'Electric power consumption (kWh per capita)',\n",
    "                     'Energy use (kg of oil equivalent per capita)',\n",
    "                     'Net lending (+) / net borrowing (-) (% of GDP)',\n",
    "                     'Domestic credit provided by financial sector (% of GDP)',\n",
    "                     'High-technology exports (% of manufactured exports)',\n",
    "                     'Revenue, excluding grants (% of GDP)',\n",
    "                     'Statistical Capacity Score (Overall Average) (scale 0 - 100)',\n",
    "                     'Total debt service (% of exports of goods, services and primary income)',\n",
    "                     'Tax revenue (% of GDP)',\n",
    "                     'External debt stocks, total (DOD, current US$) (millions)',\n",
    "                     \n",
    "                    ], inplace=True)"
   ]
  },
  {
   "cell_type": "code",
   "execution_count": 44,
   "id": "9594c2e5",
   "metadata": {},
   "outputs": [
    {
     "name": "stdout",
     "output_type": "stream",
     "text": [
      "<class 'pandas.core.frame.DataFrame'>\n",
      "RangeIndex: 704 entries, 0 to 703\n",
      "Data columns (total 43 columns):\n",
      " #   Column                                                                       Non-Null Count  Dtype \n",
      "---  ------                                                                       --------------  ----- \n",
      " 0   Population, total (millions)                                                 703 non-null    object\n",
      " 1   Population growth (annual %)                                                 703 non-null    object\n",
      " 2   Surface area (sq. km) (thousands)                                            699 non-null    object\n",
      " 3   Population density (people per sq. km of land area)                          701 non-null    object\n",
      " 4   GNI, Atlas method (current US$) (billions)                                   647 non-null    object\n",
      " 5   GNI per capita, Atlas method (current US$)                                   647 non-null    object\n",
      " 6   GNI, PPP (current international $) (billions)                                641 non-null    object\n",
      " 7   GNI per capita, PPP (current international $)                                640 non-null    object\n",
      " 8   Life expectancy at birth, total (years)                                      681 non-null    object\n",
      " 9   Fertility rate, total (births per woman)                                     684 non-null    object\n",
      " 10  Adolescent fertility rate (births per 1,000 women ages 15-19)                668 non-null    object\n",
      " 11  Births attended by skilled health staff (% of total)                         542 non-null    object\n",
      " 12  Mortality rate, under-5 (per 1,000 live births)                              696 non-null    object\n",
      " 13  Immunization, measles (% of children ages 12-23 months)                      688 non-null    object\n",
      " 14  Primary completion rate, total (% of relevant age group)                     531 non-null    object\n",
      " 15  School enrollment, primary (% gross)                                         634 non-null    object\n",
      " 16  School enrollment, secondary (% gross)                                       597 non-null    object\n",
      " 17  School enrollment, primary and secondary (gross), gender parity index (GPI)  580 non-null    object\n",
      " 18  Prevalence of HIV, total (% of population ages 15-49)                        498 non-null    object\n",
      " 19  Forest area (sq. km) (thousands)                                             698 non-null    object\n",
      " 20  Annual freshwater withdrawals, total (% of internal resources)               574 non-null    object\n",
      " 21  Urban population growth (annual %)                                           699 non-null    object\n",
      " 22  CO2 emissions (metric tons per capita)                                       696 non-null    object\n",
      " 23  GDP (current US$) (billions)                                                 679 non-null    object\n",
      " 24  GDP growth (annual %)                                                        668 non-null    object\n",
      " 25  Inflation, GDP deflator (annual %)                                           668 non-null    object\n",
      " 26  Agriculture, forestry, and fishing, value added (% of GDP)                   626 non-null    object\n",
      " 27  Industry (including construction), value added (% of GDP)                    624 non-null    object\n",
      " 28  Exports of goods and services (% of GDP)                                     607 non-null    object\n",
      " 29  Imports of goods and services (% of GDP)                                     607 non-null    object\n",
      " 30  Gross capital formation (% of GDP)                                           592 non-null    object\n",
      " 31  Time required to start a business (days)                                     457 non-null    object\n",
      " 32  Military expenditure (% of GDP)                                              572 non-null    object\n",
      " 33  Mobile cellular subscriptions (per 100 people)                               692 non-null    object\n",
      " 34  Individuals using the Internet (% of population)                             683 non-null    object\n",
      " 35  Merchandise trade (% of GDP)                                                 657 non-null    object\n",
      " 36  Net barter terms of trade index (2000 = 100)                                 587 non-null    object\n",
      " 37  Net migration (thousands)                                                    668 non-null    object\n",
      " 38  Personal remittances, received (current US$) (millions)                      594 non-null    object\n",
      " 39  Foreign direct investment, net inflows (BoP, current US$) (millions)         673 non-null    object\n",
      " 40  Net official development assistance received (current US$) (millions)        518 non-null    object\n",
      " 41  Date                                                                         704 non-null    int64 \n",
      " 42  country                                                                      704 non-null    object\n",
      "dtypes: int64(1), object(42)\n",
      "memory usage: 236.6+ KB\n"
     ]
    }
   ],
   "source": [
    "labels.info()"
   ]
  },
  {
   "cell_type": "code",
   "execution_count": 47,
   "id": "5570bb4a",
   "metadata": {},
   "outputs": [
    {
     "data": {
      "text/html": [
       "<div>\n",
       "<style scoped>\n",
       "    .dataframe tbody tr th:only-of-type {\n",
       "        vertical-align: middle;\n",
       "    }\n",
       "\n",
       "    .dataframe tbody tr th {\n",
       "        vertical-align: top;\n",
       "    }\n",
       "\n",
       "    .dataframe thead th {\n",
       "        text-align: right;\n",
       "    }\n",
       "</style>\n",
       "<table border=\"1\" class=\"dataframe\">\n",
       "  <thead>\n",
       "    <tr style=\"text-align: right;\">\n",
       "      <th></th>\n",
       "      <th>url</th>\n",
       "      <th>title</th>\n",
       "      <th>content</th>\n",
       "      <th>country</th>\n",
       "      <th>year</th>\n",
       "      <th>latest rev</th>\n",
       "    </tr>\n",
       "  </thead>\n",
       "  <tbody>\n",
       "    <tr>\n",
       "      <th>0</th>\n",
       "      <td>https://constituteproject.org/constitution/Afg...</td>\n",
       "      <td>Afghanistan 2004</td>\n",
       "      <td>in the name of allah, the most beneficent, the...</td>\n",
       "      <td>afghanistan</td>\n",
       "      <td>2004</td>\n",
       "      <td>2004</td>\n",
       "    </tr>\n",
       "    <tr>\n",
       "      <th>1</th>\n",
       "      <td>https://constituteproject.org/constitution/Afg...</td>\n",
       "      <td>Afghanistan 1964 Historical</td>\n",
       "      <td>in the name of god, the almighty and the just....</td>\n",
       "      <td>afghanistan</td>\n",
       "      <td>1964</td>\n",
       "      <td>1964</td>\n",
       "    </tr>\n",
       "    <tr>\n",
       "      <th>2</th>\n",
       "      <td>https://constituteproject.org/constitution/Alb...</td>\n",
       "      <td>Albania 1998 (rev. 2016) Subsequently amended</td>\n",
       "      <td>we, the people of albania, proud and aware of ...</td>\n",
       "      <td>albania</td>\n",
       "      <td>1998</td>\n",
       "      <td>2016</td>\n",
       "    </tr>\n",
       "    <tr>\n",
       "      <th>3</th>\n",
       "      <td>https://constituteproject.org/constitution/Alg...</td>\n",
       "      <td>Algeria 1989 (reinst. 1996, rev. 2016) Historical</td>\n",
       "      <td>the algerian people are a free people; and the...</td>\n",
       "      <td>algeria</td>\n",
       "      <td>1989</td>\n",
       "      <td>2016</td>\n",
       "    </tr>\n",
       "    <tr>\n",
       "      <th>4</th>\n",
       "      <td>https://constituteproject.org/constitution/Alg...</td>\n",
       "      <td>Algeria 2020</td>\n",
       "      <td>the algerian people are a free people; and the...</td>\n",
       "      <td>algeria</td>\n",
       "      <td>2020</td>\n",
       "      <td>2020</td>\n",
       "    </tr>\n",
       "    <tr>\n",
       "      <th>...</th>\n",
       "      <td>...</td>\n",
       "      <td>...</td>\n",
       "      <td>...</td>\n",
       "      <td>...</td>\n",
       "      <td>...</td>\n",
       "      <td>...</td>\n",
       "    </tr>\n",
       "    <tr>\n",
       "      <th>220</th>\n",
       "      <td>https://constituteproject.org/constitution/Van...</td>\n",
       "      <td>Vanuatu 1980 (rev. 2013)</td>\n",
       "      <td>we the people of vanuatu,proud of our struggle...</td>\n",
       "      <td>vanuatu</td>\n",
       "      <td>1980</td>\n",
       "      <td>2013</td>\n",
       "    </tr>\n",
       "    <tr>\n",
       "      <th>221</th>\n",
       "      <td>https://constituteproject.org/constitution/Ven...</td>\n",
       "      <td>Venezuela (Bolivarian Republic of) 1999 (rev. ...</td>\n",
       "      <td>the people of venezuela, exercising their powe...</td>\n",
       "      <td>venezuela</td>\n",
       "      <td>1999</td>\n",
       "      <td>2009</td>\n",
       "    </tr>\n",
       "    <tr>\n",
       "      <th>222</th>\n",
       "      <td>https://constituteproject.org/constitution/Soc...</td>\n",
       "      <td>Viet Nam 1992 (rev. 2013)</td>\n",
       "      <td>in the course of their millennia-old history, ...</td>\n",
       "      <td>vietnam</td>\n",
       "      <td>1992</td>\n",
       "      <td>2013</td>\n",
       "    </tr>\n",
       "    <tr>\n",
       "      <th>225</th>\n",
       "      <td>https://constituteproject.org/constitution/Zam...</td>\n",
       "      <td>Zambia 1991 (rev. 2016)</td>\n",
       "      <td>we, the people of zambia:acknowledge the supre...</td>\n",
       "      <td>zambia</td>\n",
       "      <td>1991</td>\n",
       "      <td>2016</td>\n",
       "    </tr>\n",
       "    <tr>\n",
       "      <th>226</th>\n",
       "      <td>https://constituteproject.org/constitution/Zim...</td>\n",
       "      <td>Zimbabwe 2013 (rev. 2017)</td>\n",
       "      <td>we the people of zimbabwe,united in our divers...</td>\n",
       "      <td>zimbabwe</td>\n",
       "      <td>2013</td>\n",
       "      <td>2017</td>\n",
       "    </tr>\n",
       "  </tbody>\n",
       "</table>\n",
       "<p>204 rows × 6 columns</p>\n",
       "</div>"
      ],
      "text/plain": [
       "                                                   url  \\\n",
       "0    https://constituteproject.org/constitution/Afg...   \n",
       "1    https://constituteproject.org/constitution/Afg...   \n",
       "2    https://constituteproject.org/constitution/Alb...   \n",
       "3    https://constituteproject.org/constitution/Alg...   \n",
       "4    https://constituteproject.org/constitution/Alg...   \n",
       "..                                                 ...   \n",
       "220  https://constituteproject.org/constitution/Van...   \n",
       "221  https://constituteproject.org/constitution/Ven...   \n",
       "222  https://constituteproject.org/constitution/Soc...   \n",
       "225  https://constituteproject.org/constitution/Zam...   \n",
       "226  https://constituteproject.org/constitution/Zim...   \n",
       "\n",
       "                                                 title  \\\n",
       "0                                     Afghanistan 2004   \n",
       "1                          Afghanistan 1964 Historical   \n",
       "2        Albania 1998 (rev. 2016) Subsequently amended   \n",
       "3    Algeria 1989 (reinst. 1996, rev. 2016) Historical   \n",
       "4                                         Algeria 2020   \n",
       "..                                                 ...   \n",
       "220                           Vanuatu 1980 (rev. 2013)   \n",
       "221  Venezuela (Bolivarian Republic of) 1999 (rev. ...   \n",
       "222                          Viet Nam 1992 (rev. 2013)   \n",
       "225                            Zambia 1991 (rev. 2016)   \n",
       "226                          Zimbabwe 2013 (rev. 2017)   \n",
       "\n",
       "                                               content      country  year  \\\n",
       "0    in the name of allah, the most beneficent, the...  afghanistan  2004   \n",
       "1    in the name of god, the almighty and the just....  afghanistan  1964   \n",
       "2    we, the people of albania, proud and aware of ...      albania  1998   \n",
       "3    the algerian people are a free people; and the...      algeria  1989   \n",
       "4    the algerian people are a free people; and the...      algeria  2020   \n",
       "..                                                 ...          ...   ...   \n",
       "220  we the people of vanuatu,proud of our struggle...      vanuatu  1980   \n",
       "221  the people of venezuela, exercising their powe...    venezuela  1999   \n",
       "222  in the course of their millennia-old history, ...      vietnam  1992   \n",
       "225  we, the people of zambia:acknowledge the supre...       zambia  1991   \n",
       "226  we the people of zimbabwe,united in our divers...     zimbabwe  2013   \n",
       "\n",
       "     latest rev  \n",
       "0          2004  \n",
       "1          1964  \n",
       "2          2016  \n",
       "3          2016  \n",
       "4          2020  \n",
       "..          ...  \n",
       "220        2013  \n",
       "221        2009  \n",
       "222        2013  \n",
       "225        2016  \n",
       "226        2017  \n",
       "\n",
       "[204 rows x 6 columns]"
      ]
     },
     "execution_count": 47,
     "metadata": {},
     "output_type": "execute_result"
    }
   ],
   "source": [
    "text"
   ]
  },
  {
   "cell_type": "code",
   "execution_count": null,
   "id": "9003809b",
   "metadata": {},
   "outputs": [],
   "source": [
    "labels.to_csv(\"data/labels.csv\", index=False)\n"
   ]
  }
 ],
 "metadata": {
  "kernelspec": {
   "display_name": "Python 3 (ipykernel)",
   "language": "python",
   "name": "python3"
  },
  "language_info": {
   "codemirror_mode": {
    "name": "ipython",
    "version": 3
   },
   "file_extension": ".py",
   "mimetype": "text/x-python",
   "name": "python",
   "nbconvert_exporter": "python",
   "pygments_lexer": "ipython3",
   "version": "3.8.10"
  }
 },
 "nbformat": 4,
 "nbformat_minor": 5
}

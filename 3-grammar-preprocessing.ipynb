{
 "cells": [
  {
   "cell_type": "code",
   "execution_count": 1,
   "id": "064ad2bc",
   "metadata": {},
   "outputs": [],
   "source": [
    "# NLP\n",
    "import spacy\n",
    "from collections import Counter\n",
    "from spacy.matcher import Matcher\n",
    "from dframcy import DframCy\n",
    "\n",
    "# DATA MANIPULATION \n",
    "from tqdm import tqdm\n",
    "import pandas as pd\n",
    "import numpy as np"
   ]
  },
  {
   "cell_type": "code",
   "execution_count": null,
   "id": "2b4e6870",
   "metadata": {},
   "outputs": [],
   "source": [
    "df = pd.read_csv(\"data/merged.csv\")\n",
    "df.head()"
   ]
  },
  {
   "cell_type": "markdown",
   "id": "b8e7a54e",
   "metadata": {},
   "source": [
    "(keep it simple stupid)"
   ]
  },
  {
   "cell_type": "code",
   "execution_count": null,
   "id": "d385301f",
   "metadata": {
    "scrolled": false
   },
   "outputs": [],
   "source": [
    "df = df[df['constitution'].notna()]\n",
    "df = df.reset_index(drop=True)\n",
    "df.info()"
   ]
  },
  {
   "cell_type": "code",
   "execution_count": null,
   "id": "50b4bda8",
   "metadata": {
    "scrolled": true
   },
   "outputs": [],
   "source": [
    "#!python -m spacy download en_core_web_lg"
   ]
  },
  {
   "cell_type": "code",
   "execution_count": null,
   "id": "c03f95ef",
   "metadata": {},
   "outputs": [],
   "source": [
    "def extract_keywords(nlp, text):\n",
    "\n",
    "    doc = nlp(text)\n",
    "    matcher = Matcher(nlp.vocab)\n",
    "\n",
    "    # COUNT FREQUENCY - SIMPLE TOKEN\n",
    "    words = [token.text.lower() for token in doc]\n",
    "    word_freq = Counter(words)\n",
    "\n",
    "    # COUNT FREQUENCY - COMPLEX WORD\n",
    "    pattern_1 = [{\"POS\": \"NOUN\"}, {\"LOWER\": \"of\"}, {\"POS\": \"NOUN\"}]\n",
    "    matcher.add(\"NOUN-of-NOUN\", [pattern_1])\n",
    "    pattern_2 = [{\"POS\": \"NOUN\"}, {\"POS\": \"ADJ\"}]\n",
    "    matcher.add(\"NOUN-ADJ\", [pattern_2])\n",
    "    pattern_3 = [{\"POS\": \"NOUN\"}, {\"LOWER\": \"of\"}, {\"LOWER\": \"the\"}, {\"POS\": \"NOUN\"}]\n",
    "    matcher.add(\"NOUN-of-the-NOUN\", [pattern_3])\n",
    "\n",
    "    doc = nlp(text)\n",
    "    matches = matcher(doc)\n",
    "    complex_words = []\n",
    "    \n",
    "    for match_id, start, end in matches:\n",
    "        span = doc[start:end]  # The matched span\n",
    "        complex_word = span.text\n",
    "        complex_words.append(complex_word)\n",
    "\n",
    "    complex_words_freq = Counter(complex_words)\n",
    "\n",
    "    return word_freq, complex_words_freq"
   ]
  },
  {
   "cell_type": "code",
   "execution_count": null,
   "id": "a96c77e4",
   "metadata": {},
   "outputs": [],
   "source": [
    "df[\"simple_keywords\"] = \"\"\n",
    "df[\"complex_keywords\"] = \"\"\n",
    "\n",
    "for index, row in tqdm(df.iterrows(), desc='df rows - Keywords', total=df.shape[0]):\n",
    "    \n",
    "    nlp = spacy.load(\"en_core_web_lg\")\n",
    "    simple_keywords, complex_keywords = extract_keywords(nlp, row[\"constitution\"])\n",
    "    row[\"simple_keywords\"] = simple_keywords\n",
    "    row[\"complex_keywords\"] = complex_keywords"
   ]
  },
  {
   "cell_type": "code",
   "execution_count": null,
   "id": "81676e93",
   "metadata": {},
   "outputs": [],
   "source": [
    "df['nouns'] = \"\"\n",
    "df['verbs'] = \"\"\n",
    "df['entities'] = \"\"\n",
    "\n",
    "for index, row in tqdm(df.iterrows(), desc='df rows - Grammatical entities', total=df.shape[0]):\n",
    "    \n",
    "    nlp = spacy.load(\"en_core_web_lg\")\n",
    "    dframcy = DframCy(nlp)\n",
    "    docs = dframcy.nlp(row['constitution'])\n",
    "    anotation_dataframe, entity_dataframe = dframcy.to_dataframe(docs, separate_entity_dframe=True)\n",
    "    row['entities'] = list(entity_dataframe['ent_text'])\n",
    "    verbs = anotation_dataframe.loc[anotation_dataframe['token_tag_'] == \"VERB\"]['token_text']\n",
    "    nouns = anotation_dataframe.loc[anotation_dataframe['token_tag_'] == \"NOUN\"]['token_text']\n",
    "    row['verbs'] = verbs.tolist()\n",
    "    row['nouns'] = nouns.tolist()"
   ]
  }
 ],
 "metadata": {
  "kernelspec": {
   "display_name": "Python 3 (ipykernel)",
   "language": "python",
   "name": "python3"
  },
  "language_info": {
   "codemirror_mode": {
    "name": "ipython",
    "version": 3
   },
   "file_extension": ".py",
   "mimetype": "text/x-python",
   "name": "python",
   "nbconvert_exporter": "python",
   "pygments_lexer": "ipython3",
   "version": "3.9.7"
  }
 },
 "nbformat": 4,
 "nbformat_minor": 5
}

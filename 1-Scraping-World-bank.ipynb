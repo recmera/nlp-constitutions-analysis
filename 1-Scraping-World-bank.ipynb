{
 "cells": [
  {
   "cell_type": "code",
   "execution_count": 1,
   "id": "e91cbdbf",
   "metadata": {
    "scrolled": true
   },
   "outputs": [
    {
     "data": {
      "application/javascript": [
       "IPython.notebook.set_autosave_interval(100000)"
      ]
     },
     "metadata": {},
     "output_type": "display_data"
    },
    {
     "name": "stdout",
     "output_type": "stream",
     "text": [
      "Autosaving every 100 seconds\n"
     ]
    }
   ],
   "source": [
    "%autosave 100\n",
    "\n",
    "import pandas as pd\n",
    "df = pd.read_csv(\"data/constitutions.csv\")"
   ]
  },
  {
   "cell_type": "code",
   "execution_count": 2,
   "id": "6e78e973",
   "metadata": {},
   "outputs": [],
   "source": [
    "countries = list(dict.fromkeys(df['country']))\n",
    "countries[185] = \"united-states\""
   ]
  },
  {
   "cell_type": "code",
   "execution_count": 3,
   "id": "eada7858",
   "metadata": {},
   "outputs": [],
   "source": [
    "urls = []\n",
    "for i in countries:\n",
    "    urls.append(\"https://data.worldbank.org/country/\"+i)\n"
   ]
  },
  {
   "cell_type": "markdown",
   "id": "7e2ef3cd",
   "metadata": {},
   "source": [
    "## Scraping "
   ]
  },
  {
   "cell_type": "code",
   "execution_count": 4,
   "id": "e1dd29d9",
   "metadata": {},
   "outputs": [],
   "source": [
    "URL_ARTICLE = urls[1]\n",
    "XPATH_URL = \"//div[@class='buttonGroup']/a[@class='links btn-item icon-flag']/@href\""
   ]
  },
  {
   "cell_type": "code",
   "execution_count": 5,
   "id": "bf9e06f2",
   "metadata": {},
   "outputs": [],
   "source": [
    "class Scraper:\n",
    "    \n",
    "    USER_AGENT_LIST = [\n",
    "        \"Mozilla/5.0 (Windows NT 6.1; WOW64) AppleWebKit/537.1 (KHTML, like Gecko) Chrome/22.0.1207.1 Safari/537.1\",\n",
    "        \"Mozilla/5.0 (X11; CrOS i686 2268.111.0) AppleWebKit/536.11 (KHTML, like Gecko) Chrome/20.0.1132.57 Safari/536.11\",\n",
    "        \"Mozilla/5.0 (Windows NT 6.1; WOW64) AppleWebKit/536.6 (KHTML, like Gecko) Chrome/20.0.1092.0 Safari/536.6\",\n",
    "        \"Mozilla/5.0 (Windows NT 6.2) AppleWebKit/536.6 (KHTML, like Gecko) Chrome/20.0.1090.0 Safari/536.6\",\n",
    "        \"Mozilla/5.0 (Windows NT 6.2; WOW64) AppleWebKit/537.1 (KHTML, like Gecko) Chrome/19.77.34.5 Safari/537.1\",\n",
    "        \"Mozilla/5.0 (X11; Linux x86_64) AppleWebKit/536.5 (KHTML, like Gecko) Chrome/19.0.1084.9 Safari/536.5\",\n",
    "        \"Mozilla/5.0 (Windows NT 6.0) AppleWebKit/536.5 (KHTML, like Gecko) Chrome/19.0.1084.36 Safari/536.5\",\n",
    "        \"Mozilla/5.0 (Windows NT 6.1; WOW64) AppleWebKit/536.3 (KHTML, like Gecko) Chrome/19.0.1063.0 Safari/536.3\",\n",
    "        \"Mozilla/5.0 (Windows NT 5.1) AppleWebKit/536.3 (KHTML, like Gecko) Chrome/19.0.1063.0 Safari/536.3\",\n",
    "        \"Mozilla/5.0 (Macintosh; Intel Mac OS X 10_8_0) AppleWebKit/536.3 (KHTML, like Gecko) Chrome/19.0.1063.0 Safari/536.3\",\n",
    "        \"Mozilla/5.0 (Windows NT 6.2) AppleWebKit/536.3 (KHTML, like Gecko) Chrome/19.0.1062.0 Safari/536.3\",\n",
    "        \"Mozilla/5.0 (Windows NT 6.1; WOW64) AppleWebKit/536.3 (KHTML, like Gecko) Chrome/19.0.1062.0 Safari/536.3\",\n",
    "        \"Mozilla/5.0 (Windows NT 6.2) AppleWebKit/536.3 (KHTML, like Gecko) Chrome/19.0.1061.1 Safari/536.3\",\n",
    "        \"Mozilla/5.0 (Windows NT 6.1; WOW64) AppleWebKit/536.3 (KHTML, like Gecko) Chrome/19.0.1061.1 Safari/536.3\",\n",
    "        \"Mozilla/5.0 (Windows NT 6.1) AppleWebKit/536.3 (KHTML, like Gecko) Chrome/19.0.1061.1 Safari/536.3\",\n",
    "        \"Mozilla/5.0 (Windows NT 6.2) AppleWebKit/536.3 (KHTML, like Gecko) Chrome/19.0.1061.0 Safari/536.3\",\n",
    "        \"Mozilla/5.0 (X11; Linux x86_64) AppleWebKit/535.24 (KHTML, like Gecko) Chrome/19.0.1055.1 Safari/535.24\",\n",
    "        \"Mozilla/5.0 (Windows NT 6.2; WOW64) AppleWebKit/535.24 (KHTML, like Gecko) Chrome/19.0.1055.1 Safari/535.24\"\n",
    "    ]\n",
    "\n",
    "    query_extract_title = XPATH_URL\n",
    "\n",
    "    def _init_(self):\n",
    "        pass\n",
    "   \n",
    "    def get(self,url):\n",
    "        headers = {'user-agent':random.choice(self.USER_AGENT_LIST) }\n",
    "        session = HTMLSession()\n",
    "        response = session.get(url,headers=headers) \n",
    "        return response\n",
    "    \n",
    "    def clean_text(self, html_text):\n",
    "        text_without_tags = w3lib.html.remove_tags(html_text)\n",
    "        text_without_escape_chars = w3lib.html.replace_escape_chars(text_without_tags)\n",
    "        text_without_escape_chars = html.unescape(text_without_escape_chars)\n",
    "        text_without_whitespace = text_without_escape_chars.strip()\n",
    "        return text_without_whitespace\n",
    "\n",
    "    #### main function ####\n",
    "    def parse(self, response):\n",
    "        \n",
    "        #URL\n",
    "        self.news_url = response.url\n",
    "        \n",
    "        #TITLE\n",
    "        self.news_title = response.html.xpath(self.query_extract_title)[0]\n",
    "        self.news_title = self.clean_text(self.news_title)"
   ]
  },
  {
   "cell_type": "code",
   "execution_count": 6,
   "id": "9cbff985",
   "metadata": {},
   "outputs": [],
   "source": [
    "import random\n",
    "from requests_html import HTMLSession\n",
    "from requests_html import HTML\n",
    "import w3lib.html\n",
    "import html\n",
    "\n",
    "scraper = Scraper()\n",
    "response =scraper.get(URL_ARTICLE)"
   ]
  },
  {
   "cell_type": "code",
   "execution_count": 7,
   "id": "e993eeb9",
   "metadata": {},
   "outputs": [],
   "source": [
    "scraper.parse(response)"
   ]
  },
  {
   "cell_type": "code",
   "execution_count": 8,
   "id": "e5aeab9e",
   "metadata": {},
   "outputs": [
    {
     "data": {
      "application/vnd.jupyter.widget-view+json": {
       "model_id": "c8216e8ea8334178b338a32339e9bc43",
       "version_major": 2,
       "version_minor": 0
      },
      "text/plain": [
       "0it [00:00, ?it/s]"
      ]
     },
     "metadata": {},
     "output_type": "display_data"
    },
    {
     "data": {
      "application/vnd.jupyter.widget-view+json": {
       "model_id": "f20cc2710a4648f98b51e35b18ab081c",
       "version_major": 2,
       "version_minor": 0
      },
      "text/plain": [
       "  0%|          | 0/194 [00:00<?, ?it/s]"
      ]
     },
     "metadata": {},
     "output_type": "display_data"
    }
   ],
   "source": [
    "from tqdm.notebook import tqdm\n",
    "tqdm().pandas()\n",
    "id = []\n",
    "info_urls = []\n",
    "\n",
    "n = 0\n",
    "for url in tqdm(urls):\n",
    "    try:\n",
    "        response = scraper.get(url)\n",
    "        scraper.parse(response)\n",
    "        #Storing\n",
    "        info_urls.append(scraper.news_title)\n",
    "        id.append(n)\n",
    "    except IndexError:\n",
    "        pass\n",
    "    \n",
    "    n = n+1"
   ]
  },
  {
   "cell_type": "code",
   "execution_count": 9,
   "id": "692da0a5",
   "metadata": {},
   "outputs": [
    {
     "name": "stdout",
     "output_type": "stream",
     "text": [
      "176\n",
      "176\n"
     ]
    }
   ],
   "source": [
    "print(len(id))\n",
    "print(len(info_urls))"
   ]
  },
  {
   "cell_type": "code",
   "execution_count": null,
   "id": "be726655",
   "metadata": {},
   "outputs": [],
   "source": [
    "n = 0\n",
    "df = pd.read_html(info_urls[n], attrs = {'id': 'table-ddpreport-data'})[0]\n",
    "df = df.drop(df.tail(3).index)\n",
    "df = df.drop(df.head(2).index)\n",
    "df = df.T\n",
    "headers = df.iloc[0]\n",
    "df = pd.DataFrame(df.values[1:], columns=headers)\n",
    "df.drop(['People','Environment','Economy','States and markets','Global links'], axis=1, inplace=True)\n",
    "df['Date'] = [1990,2000,2010,2020]\n",
    "df['country'] = countries[id[n]]\n",
    "n = n+1\n",
    "\n",
    "for url in tqdm(info_urls-1):\n",
    "    df1 = pd.read_html(url, attrs = {'id': 'table-ddpreport-data'})[0]\n",
    "    df1 = df1.drop(df1.tail(3).index)\n",
    "    df1 = df1.drop(df1.head(2).index)\n",
    "    df1 = df1.T\n",
    "    headers = df1.iloc[0]\n",
    "    df1 = pd.DataFrame(df1.values[1:], columns=headers)\n",
    "    df1.drop(['People','Environment','Economy','States and markets','Global links'], axis=1, inplace=True)\n",
    "    df1['Date'] = [1990,2000,2010,2020]\n",
    "    df1['country'] = countries[id[n]]\n",
    "    df = pd.concat([df, df1])\n",
    "    n = n+1"
   ]
  },
  {
   "cell_type": "code",
   "execution_count": 18,
   "id": "a07c2205",
   "metadata": {},
   "outputs": [],
   "source": [
    "df.to_csv(\"data/world-bank.csv\", index=False)"
   ]
  }
 ],
 "metadata": {
  "kernelspec": {
   "display_name": "Python 3 (ipykernel)",
   "language": "python",
   "name": "python3"
  },
  "language_info": {
   "codemirror_mode": {
    "name": "ipython",
    "version": 3
   },
   "file_extension": ".py",
   "mimetype": "text/x-python",
   "name": "python",
   "nbconvert_exporter": "python",
   "pygments_lexer": "ipython3",
   "version": "3.9.7"
  }
 },
 "nbformat": 4,
 "nbformat_minor": 5
}
